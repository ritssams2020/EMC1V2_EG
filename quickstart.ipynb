{
  "cells": [
    {
      "cell_type": "markdown",
      "metadata": {
        "id": "FjYpvnes_smK"
      },
      "source": [
        "# A Quick Introduction to Optuna\n",
        "\n",
        "This Jupyter notebook goes through the basic usage of Optuna.\n",
        "\n",
        "- Install Optuna\n",
        "- Write a training algorithm that involves hyperparameters\n",
        "  - Read train/valid data\n",
        "  - Define and train model\n",
        "  - Evaluate model\n",
        "- Use Optuna to tune the hyperparameters (hyperparameter optimization, HPO)\n",
        "- Visualize HPO"
      ]
    },
    {
      "cell_type": "markdown",
      "metadata": {
        "id": "sCQBNUwf_smM"
      },
      "source": [
        "## Install `optuna`\n",
        "\n",
        "Optuna can be installed via `pip` or `conda`."
      ]
    },
    {
      "cell_type": "code",
      "execution_count": 1,
      "metadata": {
        "id": "KfuO0H8R_smN",
        "outputId": "2b0ea6d7-d5e3-4062-d341-f9a86809c948",
        "colab": {
          "base_uri": "https://localhost:8080/"
        }
      },
      "outputs": [
        {
          "output_type": "stream",
          "name": "stdout",
          "text": [
            "\u001b[?25l   \u001b[90m━━━━━━━━━━━━━━━━━━━━━━━━━━━━━━━━━━━━━━━━\u001b[0m \u001b[32m0.0/400.9 kB\u001b[0m \u001b[31m?\u001b[0m eta \u001b[36m-:--:--\u001b[0m\r\u001b[2K   \u001b[91m━━━━━━━━━━━━━━━━━━━━━━━\u001b[0m\u001b[91m╸\u001b[0m\u001b[90m━━━━━━━━━━━━━━━━\u001b[0m \u001b[32m235.5/400.9 kB\u001b[0m \u001b[31m7.8 MB/s\u001b[0m eta \u001b[36m0:00:01\u001b[0m\r\u001b[2K   \u001b[90m━━━━━━━━━━━━━━━━━━━━━━━━━━━━━━━━━━━━━━━━\u001b[0m \u001b[32m400.9/400.9 kB\u001b[0m \u001b[31m7.1 MB/s\u001b[0m eta \u001b[36m0:00:00\u001b[0m\n",
            "\u001b[?25h"
          ]
        }
      ],
      "source": [
        "!pip install --quiet optuna"
      ]
    },
    {
      "cell_type": "code",
      "execution_count": 2,
      "metadata": {
        "id": "nJQOc94S_smO",
        "outputId": "9bb20da2-eedc-4cff-c91d-107f6bd7cafd",
        "colab": {
          "base_uri": "https://localhost:8080/",
          "height": 36
        }
      },
      "outputs": [
        {
          "output_type": "execute_result",
          "data": {
            "text/plain": [
              "'4.5.0'"
            ],
            "application/vnd.google.colaboratory.intrinsic+json": {
              "type": "string"
            }
          },
          "metadata": {},
          "execution_count": 2
        }
      ],
      "source": [
        "import optuna\n",
        "\n",
        "optuna.__version__"
      ]
    },
    {
      "cell_type": "markdown",
      "metadata": {
        "id": "PGEF0jAH_smP"
      },
      "source": [
        "## Optimize Hyperparameters\n",
        "\n",
        "### Define a simple scikit-learn model\n",
        "\n",
        "We start with a simple random forest model to classify flowers in the Iris dataset. We define a function called `objective` that encapsulates the whole training process and outputs the accuracy of the model."
      ]
    },
    {
      "cell_type": "code",
      "execution_count": 3,
      "metadata": {
        "id": "x_zH9-Q3_smP",
        "outputId": "b32f2d24-d3ee-4cf8-80b9-e09a59a9cab8",
        "colab": {
          "base_uri": "https://localhost:8080/"
        }
      },
      "outputs": [
        {
          "output_type": "stream",
          "name": "stdout",
          "text": [
            "Accuracy: 0.9666666666666667\n"
          ]
        }
      ],
      "source": [
        "import sklearn.datasets\n",
        "import sklearn.ensemble\n",
        "import sklearn.model_selection\n",
        "\n",
        "\n",
        "def objective():\n",
        "    iris = sklearn.datasets.load_iris()  # Prepare the data.\n",
        "\n",
        "    clf = sklearn.ensemble.RandomForestClassifier(n_estimators=5, max_depth=3)  # Define the model.\n",
        "\n",
        "    return sklearn.model_selection.cross_val_score(\n",
        "        clf, iris.data, iris.target, n_jobs=-1, cv=3\n",
        "    ).mean()  # Train and evaluate the model.\n",
        "\n",
        "\n",
        "print(\"Accuracy: {}\".format(objective()))"
      ]
    },
    {
      "cell_type": "markdown",
      "metadata": {
        "id": "nRrxoWje_smQ"
      },
      "source": [
        "### Optimize hyperparameters of the model\n",
        "\n",
        "The hyperparameters of the above algorithm are `n_estimators` and `max_depth` for which we can try different values to see if the model accuracy can be improved. The `objective` function is modified to accept a trial object. This trial has several methods for sampling hyperparameters. We create a study to run the hyperparameter optimization and finally read the best hyperparameters."
      ]
    },
    {
      "cell_type": "code",
      "execution_count": 4,
      "metadata": {
        "id": "mgfut017_smR",
        "outputId": "7ce837e7-2f6d-44d7-9e54-281203686dfd",
        "colab": {
          "base_uri": "https://localhost:8080/"
        }
      },
      "outputs": [
        {
          "output_type": "stream",
          "name": "stderr",
          "text": [
            "[I 2025-09-20 07:22:13,331] A new study created in memory with name: no-name-5481adf4-55ce-469f-9800-da2efa588654\n",
            "[I 2025-09-20 07:22:13,423] Trial 0 finished with value: 0.9466666666666667 and parameters: {'n_estimators': 17, 'max_depth': 1.4110302771783216}. Best is trial 0 with value: 0.9466666666666667.\n",
            "[I 2025-09-20 07:22:13,452] Trial 1 finished with value: 0.94 and parameters: {'n_estimators': 2, 'max_depth': 7.665787657746182}. Best is trial 0 with value: 0.9466666666666667.\n",
            "[I 2025-09-20 07:22:13,490] Trial 2 finished with value: 0.9466666666666667 and parameters: {'n_estimators': 5, 'max_depth': 4.1752837736369575}. Best is trial 0 with value: 0.9466666666666667.\n",
            "[I 2025-09-20 07:22:13,570] Trial 3 finished with value: 0.9466666666666667 and parameters: {'n_estimators': 13, 'max_depth': 11.694206952228047}. Best is trial 0 with value: 0.9466666666666667.\n",
            "[I 2025-09-20 07:22:13,618] Trial 4 finished with value: 0.9466666666666667 and parameters: {'n_estimators': 6, 'max_depth': 2.477133739542195}. Best is trial 0 with value: 0.9466666666666667.\n",
            "[I 2025-09-20 07:22:13,723] Trial 5 finished with value: 0.9666666666666667 and parameters: {'n_estimators': 19, 'max_depth': 5.929849158002544}. Best is trial 5 with value: 0.9666666666666667.\n",
            "[I 2025-09-20 07:22:13,814] Trial 6 finished with value: 0.96 and parameters: {'n_estimators': 12, 'max_depth': 4.59213298897809}. Best is trial 5 with value: 0.9666666666666667.\n",
            "[I 2025-09-20 07:22:13,893] Trial 7 finished with value: 0.9466666666666667 and parameters: {'n_estimators': 13, 'max_depth': 1.2549406227451703}. Best is trial 5 with value: 0.9666666666666667.\n",
            "[I 2025-09-20 07:22:13,984] Trial 8 finished with value: 0.8733333333333334 and parameters: {'n_estimators': 15, 'max_depth': 1.910079008347175}. Best is trial 5 with value: 0.9666666666666667.\n",
            "[I 2025-09-20 07:22:14,095] Trial 9 finished with value: 0.96 and parameters: {'n_estimators': 20, 'max_depth': 24.84861744513506}. Best is trial 5 with value: 0.9666666666666667.\n",
            "[I 2025-09-20 07:22:14,212] Trial 10 finished with value: 0.9666666666666667 and parameters: {'n_estimators': 20, 'max_depth': 16.674748760040934}. Best is trial 5 with value: 0.9666666666666667.\n",
            "[I 2025-09-20 07:22:14,367] Trial 11 finished with value: 0.9466666666666667 and parameters: {'n_estimators': 20, 'max_depth': 20.006480640788897}. Best is trial 5 with value: 0.9666666666666667.\n",
            "[I 2025-09-20 07:22:14,518] Trial 12 finished with value: 0.9533333333333333 and parameters: {'n_estimators': 17, 'max_depth': 12.330485267966203}. Best is trial 5 with value: 0.9666666666666667.\n",
            "[I 2025-09-20 07:22:14,670] Trial 13 finished with value: 0.96 and parameters: {'n_estimators': 18, 'max_depth': 8.100982179624843}. Best is trial 5 with value: 0.9666666666666667.\n",
            "[I 2025-09-20 07:22:14,769] Trial 14 finished with value: 0.9533333333333333 and parameters: {'n_estimators': 8, 'max_depth': 29.951391136053587}. Best is trial 5 with value: 0.9666666666666667.\n",
            "[I 2025-09-20 07:22:14,873] Trial 15 finished with value: 0.9533333333333333 and parameters: {'n_estimators': 10, 'max_depth': 15.67331789585475}. Best is trial 5 with value: 0.9666666666666667.\n",
            "[I 2025-09-20 07:22:15,017] Trial 16 finished with value: 0.9533333333333333 and parameters: {'n_estimators': 16, 'max_depth': 3.219104087455502}. Best is trial 5 with value: 0.9666666666666667.\n",
            "[I 2025-09-20 07:22:15,197] Trial 17 finished with value: 0.96 and parameters: {'n_estimators': 19, 'max_depth': 7.250035541149945}. Best is trial 5 with value: 0.9666666666666667.\n",
            "[I 2025-09-20 07:22:15,352] Trial 18 finished with value: 0.94 and parameters: {'n_estimators': 14, 'max_depth': 10.988658016152193}. Best is trial 5 with value: 0.9666666666666667.\n",
            "[I 2025-09-20 07:22:15,474] Trial 19 finished with value: 0.96 and parameters: {'n_estimators': 10, 'max_depth': 5.097888637922874}. Best is trial 5 with value: 0.9666666666666667.\n",
            "[I 2025-09-20 07:22:15,656] Trial 20 finished with value: 0.94 and parameters: {'n_estimators': 18, 'max_depth': 19.22784698821573}. Best is trial 5 with value: 0.9666666666666667.\n",
            "[I 2025-09-20 07:22:15,792] Trial 21 finished with value: 0.96 and parameters: {'n_estimators': 12, 'max_depth': 4.525612167975852}. Best is trial 5 with value: 0.9666666666666667.\n",
            "[I 2025-09-20 07:22:15,952] Trial 22 finished with value: 0.9733333333333333 and parameters: {'n_estimators': 15, 'max_depth': 3.155010081636098}. Best is trial 22 with value: 0.9733333333333333.\n",
            "[I 2025-09-20 07:22:16,115] Trial 23 finished with value: 0.94 and parameters: {'n_estimators': 16, 'max_depth': 2.9747280834148375}. Best is trial 22 with value: 0.9733333333333333.\n",
            "[I 2025-09-20 07:22:16,310] Trial 24 finished with value: 0.8733333333333334 and parameters: {'n_estimators': 20, 'max_depth': 1.7325406120502682}. Best is trial 22 with value: 0.9733333333333333.\n",
            "[I 2025-09-20 07:22:16,482] Trial 25 finished with value: 0.8133333333333334 and parameters: {'n_estimators': 18, 'max_depth': 1.0195967958904226}. Best is trial 22 with value: 0.9733333333333333.\n",
            "[I 2025-09-20 07:22:16,632] Trial 26 finished with value: 0.9666666666666667 and parameters: {'n_estimators': 15, 'max_depth': 6.11769044787298}. Best is trial 22 with value: 0.9733333333333333.\n",
            "[I 2025-09-20 07:22:16,805] Trial 27 finished with value: 0.9466666666666667 and parameters: {'n_estimators': 19, 'max_depth': 3.6973069005091923}. Best is trial 22 with value: 0.9733333333333333.\n",
            "[I 2025-09-20 07:22:16,961] Trial 28 finished with value: 0.94 and parameters: {'n_estimators': 16, 'max_depth': 2.0236225801531655}. Best is trial 22 with value: 0.9733333333333333.\n",
            "[I 2025-09-20 07:22:17,147] Trial 29 finished with value: 0.96 and parameters: {'n_estimators': 17, 'max_depth': 9.290741283933086}. Best is trial 22 with value: 0.9733333333333333.\n",
            "[I 2025-09-20 07:22:17,313] Trial 30 finished with value: 0.96 and parameters: {'n_estimators': 19, 'max_depth': 14.785043301306834}. Best is trial 22 with value: 0.9733333333333333.\n",
            "[I 2025-09-20 07:22:17,422] Trial 31 finished with value: 0.9466666666666667 and parameters: {'n_estimators': 15, 'max_depth': 5.996288407487833}. Best is trial 22 with value: 0.9733333333333333.\n",
            "[I 2025-09-20 07:22:17,506] Trial 32 finished with value: 0.9533333333333333 and parameters: {'n_estimators': 14, 'max_depth': 6.099333538411346}. Best is trial 22 with value: 0.9733333333333333.\n",
            "[I 2025-09-20 07:22:17,539] Trial 33 finished with value: 0.9466666666666667 and parameters: {'n_estimators': 2, 'max_depth': 2.7148444116940005}. Best is trial 22 with value: 0.9733333333333333.\n",
            "[I 2025-09-20 07:22:17,634] Trial 34 finished with value: 0.9533333333333333 and parameters: {'n_estimators': 17, 'max_depth': 3.5299637408496487}. Best is trial 22 with value: 0.9733333333333333.\n",
            "[I 2025-09-20 07:22:17,728] Trial 35 finished with value: 0.9533333333333333 and parameters: {'n_estimators': 15, 'max_depth': 6.176726588866761}. Best is trial 22 with value: 0.9733333333333333.\n",
            "[I 2025-09-20 07:22:17,805] Trial 36 finished with value: 0.96 and parameters: {'n_estimators': 11, 'max_depth': 2.354006753435186}. Best is trial 22 with value: 0.9733333333333333.\n",
            "[I 2025-09-20 07:22:17,871] Trial 37 finished with value: 0.9466666666666667 and parameters: {'n_estimators': 8, 'max_depth': 8.54641788276981}. Best is trial 22 with value: 0.9733333333333333.\n",
            "[I 2025-09-20 07:22:17,956] Trial 38 finished with value: 0.9666666666666667 and parameters: {'n_estimators': 13, 'max_depth': 4.115555235091405}. Best is trial 22 with value: 0.9733333333333333.\n",
            "[I 2025-09-20 07:22:18,060] Trial 39 finished with value: 0.96 and parameters: {'n_estimators': 19, 'max_depth': 6.872491305044384}. Best is trial 22 with value: 0.9733333333333333.\n",
            "[I 2025-09-20 07:22:18,157] Trial 40 finished with value: 0.96 and parameters: {'n_estimators': 14, 'max_depth': 9.998933880393574}. Best is trial 22 with value: 0.9733333333333333.\n",
            "[I 2025-09-20 07:22:18,254] Trial 41 finished with value: 0.96 and parameters: {'n_estimators': 13, 'max_depth': 3.95679254537635}. Best is trial 22 with value: 0.9733333333333333.\n",
            "[I 2025-09-20 07:22:18,330] Trial 42 finished with value: 0.96 and parameters: {'n_estimators': 12, 'max_depth': 5.094224910020646}. Best is trial 22 with value: 0.9733333333333333.\n",
            "[I 2025-09-20 07:22:18,416] Trial 43 finished with value: 0.96 and parameters: {'n_estimators': 13, 'max_depth': 4.286507053465564}. Best is trial 22 with value: 0.9733333333333333.\n",
            "[I 2025-09-20 07:22:18,510] Trial 44 finished with value: 0.9533333333333333 and parameters: {'n_estimators': 15, 'max_depth': 2.343632429753461}. Best is trial 22 with value: 0.9733333333333333.\n",
            "[I 2025-09-20 07:22:18,719] Trial 45 finished with value: 0.9666666666666667 and parameters: {'n_estimators': 17, 'max_depth': 5.10893237684381}. Best is trial 22 with value: 0.9733333333333333.\n",
            "[I 2025-09-20 07:22:18,835] Trial 46 finished with value: 0.96 and parameters: {'n_estimators': 20, 'max_depth': 13.439961602521397}. Best is trial 22 with value: 0.9733333333333333.\n",
            "[I 2025-09-20 07:22:18,909] Trial 47 finished with value: 0.9666666666666667 and parameters: {'n_estimators': 11, 'max_depth': 3.048200392028791}. Best is trial 22 with value: 0.9733333333333333.\n",
            "[I 2025-09-20 07:22:19,010] Trial 48 finished with value: 0.9666666666666667 and parameters: {'n_estimators': 16, 'max_depth': 29.77381093815016}. Best is trial 22 with value: 0.9733333333333333.\n",
            "[I 2025-09-20 07:22:19,117] Trial 49 finished with value: 0.96 and parameters: {'n_estimators': 18, 'max_depth': 7.301607280698599}. Best is trial 22 with value: 0.9733333333333333.\n",
            "[I 2025-09-20 07:22:19,212] Trial 50 finished with value: 0.9533333333333333 and parameters: {'n_estimators': 14, 'max_depth': 20.090614407819423}. Best is trial 22 with value: 0.9733333333333333.\n",
            "[I 2025-09-20 07:22:19,324] Trial 51 finished with value: 0.9733333333333333 and parameters: {'n_estimators': 17, 'max_depth': 4.824670307280817}. Best is trial 22 with value: 0.9733333333333333.\n",
            "[I 2025-09-20 07:22:19,430] Trial 52 finished with value: 0.9466666666666667 and parameters: {'n_estimators': 18, 'max_depth': 3.3260124099304935}. Best is trial 22 with value: 0.9733333333333333.\n",
            "[I 2025-09-20 07:22:19,544] Trial 53 finished with value: 0.9666666666666667 and parameters: {'n_estimators': 20, 'max_depth': 5.105374229127558}. Best is trial 22 with value: 0.9733333333333333.\n",
            "[I 2025-09-20 07:22:19,639] Trial 54 finished with value: 0.9666666666666667 and parameters: {'n_estimators': 16, 'max_depth': 4.588437461479749}. Best is trial 22 with value: 0.9733333333333333.\n",
            "[I 2025-09-20 07:22:19,735] Trial 55 finished with value: 0.96 and parameters: {'n_estimators': 15, 'max_depth': 4.036846887348607}. Best is trial 22 with value: 0.9733333333333333.\n",
            "[I 2025-09-20 07:22:19,840] Trial 56 finished with value: 0.9666666666666667 and parameters: {'n_estimators': 19, 'max_depth': 6.437691449436813}. Best is trial 22 with value: 0.9733333333333333.\n",
            "[I 2025-09-20 07:22:19,947] Trial 57 finished with value: 0.8533333333333334 and parameters: {'n_estimators': 17, 'max_depth': 1.581842032033858}. Best is trial 22 with value: 0.9733333333333333.\n",
            "[I 2025-09-20 07:22:20,053] Trial 58 finished with value: 0.9533333333333333 and parameters: {'n_estimators': 18, 'max_depth': 2.626068791936873}. Best is trial 22 with value: 0.9733333333333333.\n",
            "[I 2025-09-20 07:22:20,138] Trial 59 finished with value: 0.96 and parameters: {'n_estimators': 13, 'max_depth': 8.338919502763188}. Best is trial 22 with value: 0.9733333333333333.\n",
            "[I 2025-09-20 07:22:20,246] Trial 60 finished with value: 0.96 and parameters: {'n_estimators': 16, 'max_depth': 2.089060015954238}. Best is trial 22 with value: 0.9733333333333333.\n",
            "[I 2025-09-20 07:22:20,367] Trial 61 finished with value: 0.9666666666666667 and parameters: {'n_estimators': 17, 'max_depth': 5.303045375861268}. Best is trial 22 with value: 0.9733333333333333.\n",
            "[I 2025-09-20 07:22:20,462] Trial 62 finished with value: 0.9533333333333333 and parameters: {'n_estimators': 17, 'max_depth': 3.6662896358309993}. Best is trial 22 with value: 0.9733333333333333.\n",
            "[I 2025-09-20 07:22:20,567] Trial 63 finished with value: 0.9533333333333333 and parameters: {'n_estimators': 19, 'max_depth': 5.555481226627418}. Best is trial 22 with value: 0.9733333333333333.\n",
            "[I 2025-09-20 07:22:20,663] Trial 64 finished with value: 0.96 and parameters: {'n_estimators': 15, 'max_depth': 4.671451642785343}. Best is trial 22 with value: 0.9733333333333333.\n",
            "[I 2025-09-20 07:22:20,777] Trial 65 finished with value: 0.96 and parameters: {'n_estimators': 19, 'max_depth': 10.91746744541945}. Best is trial 22 with value: 0.9733333333333333.\n",
            "[I 2025-09-20 07:22:20,861] Trial 66 finished with value: 0.9533333333333333 and parameters: {'n_estimators': 14, 'max_depth': 3.9574056680265257}. Best is trial 22 with value: 0.9733333333333333.\n",
            "[I 2025-09-20 07:22:20,978] Trial 67 finished with value: 0.9466666666666667 and parameters: {'n_estimators': 20, 'max_depth': 3.3027949481022447}. Best is trial 22 with value: 0.9733333333333333.\n",
            "[I 2025-09-20 07:22:21,068] Trial 68 finished with value: 0.9466666666666667 and parameters: {'n_estimators': 12, 'max_depth': 6.754934200469728}. Best is trial 22 with value: 0.9733333333333333.\n",
            "[I 2025-09-20 07:22:21,185] Trial 69 finished with value: 0.96 and parameters: {'n_estimators': 18, 'max_depth': 17.88548989056891}. Best is trial 22 with value: 0.9733333333333333.\n",
            "[I 2025-09-20 07:22:21,293] Trial 70 finished with value: 0.9666666666666667 and parameters: {'n_estimators': 17, 'max_depth': 24.048373512469286}. Best is trial 22 with value: 0.9733333333333333.\n",
            "[I 2025-09-20 07:22:21,382] Trial 71 finished with value: 0.96 and parameters: {'n_estimators': 10, 'max_depth': 2.8306686767423077}. Best is trial 22 with value: 0.9733333333333333.\n",
            "[I 2025-09-20 07:22:21,457] Trial 72 finished with value: 0.9533333333333333 and parameters: {'n_estimators': 11, 'max_depth': 2.9844169348357044}. Best is trial 22 with value: 0.9733333333333333.\n",
            "[I 2025-09-20 07:22:21,522] Trial 73 finished with value: 0.9466666666666667 and parameters: {'n_estimators': 9, 'max_depth': 4.829092819475773}. Best is trial 22 with value: 0.9733333333333333.\n",
            "[I 2025-09-20 07:22:21,607] Trial 74 finished with value: 0.9666666666666667 and parameters: {'n_estimators': 13, 'max_depth': 5.588772981750461}. Best is trial 22 with value: 0.9733333333333333.\n",
            "[I 2025-09-20 07:22:21,661] Trial 75 finished with value: 0.9466666666666667 and parameters: {'n_estimators': 6, 'max_depth': 3.0659877351905633}. Best is trial 22 with value: 0.9733333333333333.\n",
            "[I 2025-09-20 07:22:21,735] Trial 76 finished with value: 0.9533333333333333 and parameters: {'n_estimators': 11, 'max_depth': 3.4301882611008554}. Best is trial 22 with value: 0.9733333333333333.\n",
            "[I 2025-09-20 07:22:21,831] Trial 77 finished with value: 0.9666666666666667 and parameters: {'n_estimators': 16, 'max_depth': 4.342294150059086}. Best is trial 22 with value: 0.9733333333333333.\n",
            "[I 2025-09-20 07:22:21,916] Trial 78 finished with value: 0.96 and parameters: {'n_estimators': 12, 'max_depth': 3.832842786455932}. Best is trial 22 with value: 0.9733333333333333.\n",
            "[I 2025-09-20 07:22:21,988] Trial 79 finished with value: 0.96 and parameters: {'n_estimators': 10, 'max_depth': 7.883987812684134}. Best is trial 22 with value: 0.9733333333333333.\n",
            "[I 2025-09-20 07:22:22,073] Trial 80 finished with value: 0.9666666666666667 and parameters: {'n_estimators': 15, 'max_depth': 2.176945005530198}. Best is trial 22 with value: 0.9733333333333333.\n",
            "[I 2025-09-20 07:22:22,166] Trial 81 finished with value: 0.96 and parameters: {'n_estimators': 16, 'max_depth': 31.956500892439642}. Best is trial 22 with value: 0.9733333333333333.\n",
            "[I 2025-09-20 07:22:22,270] Trial 82 finished with value: 0.9666666666666667 and parameters: {'n_estimators': 17, 'max_depth': 28.661844937192868}. Best is trial 22 with value: 0.9733333333333333.\n",
            "[I 2025-09-20 07:22:22,390] Trial 83 finished with value: 0.9666666666666667 and parameters: {'n_estimators': 16, 'max_depth': 21.545711726865527}. Best is trial 22 with value: 0.9733333333333333.\n",
            "[I 2025-09-20 07:22:22,475] Trial 84 finished with value: 0.9533333333333333 and parameters: {'n_estimators': 14, 'max_depth': 16.532508966471397}. Best is trial 22 with value: 0.9733333333333333.\n",
            "[I 2025-09-20 07:22:22,580] Trial 85 finished with value: 0.96 and parameters: {'n_estimators': 18, 'max_depth': 9.276800335289373}. Best is trial 22 with value: 0.9733333333333333.\n",
            "[I 2025-09-20 07:22:22,677] Trial 86 finished with value: 0.9466666666666667 and parameters: {'n_estimators': 15, 'max_depth': 12.688381553160063}. Best is trial 22 with value: 0.9733333333333333.\n",
            "[I 2025-09-20 07:22:22,793] Trial 87 finished with value: 0.96 and parameters: {'n_estimators': 20, 'max_depth': 5.804099360763984}. Best is trial 22 with value: 0.9733333333333333.\n",
            "[I 2025-09-20 07:22:22,899] Trial 88 finished with value: 0.94 and parameters: {'n_estimators': 18, 'max_depth': 2.613791535719595}. Best is trial 22 with value: 0.9733333333333333.\n",
            "[I 2025-09-20 07:22:22,985] Trial 89 finished with value: 0.96 and parameters: {'n_estimators': 13, 'max_depth': 23.00067806420929}. Best is trial 22 with value: 0.9733333333333333.\n",
            "[I 2025-09-20 07:22:23,070] Trial 90 finished with value: 0.96 and parameters: {'n_estimators': 14, 'max_depth': 25.996539268608466}. Best is trial 22 with value: 0.9733333333333333.\n",
            "[I 2025-09-20 07:22:23,184] Trial 91 finished with value: 0.9533333333333333 and parameters: {'n_estimators': 20, 'max_depth': 5.135710540039}. Best is trial 22 with value: 0.9733333333333333.\n",
            "[I 2025-09-20 07:22:23,290] Trial 92 finished with value: 0.9666666666666667 and parameters: {'n_estimators': 19, 'max_depth': 4.185944138896228}. Best is trial 22 with value: 0.9733333333333333.\n",
            "[I 2025-09-20 07:22:23,428] Trial 93 finished with value: 0.9666666666666667 and parameters: {'n_estimators': 20, 'max_depth': 5.075466054559638}. Best is trial 22 with value: 0.9733333333333333.\n",
            "[I 2025-09-20 07:22:23,540] Trial 94 finished with value: 0.9733333333333333 and parameters: {'n_estimators': 19, 'max_depth': 7.25121438609147}. Best is trial 22 with value: 0.9733333333333333.\n",
            "[I 2025-09-20 07:22:23,658] Trial 95 finished with value: 0.9666666666666667 and parameters: {'n_estimators': 19, 'max_depth': 7.192353410758875}. Best is trial 22 with value: 0.9733333333333333.\n",
            "[I 2025-09-20 07:22:23,754] Trial 96 finished with value: 0.96 and parameters: {'n_estimators': 16, 'max_depth': 6.641709503507018}. Best is trial 22 with value: 0.9733333333333333.\n",
            "[I 2025-09-20 07:22:23,850] Trial 97 finished with value: 0.9666666666666667 and parameters: {'n_estimators': 17, 'max_depth': 6.123156928339885}. Best is trial 22 with value: 0.9733333333333333.\n",
            "[I 2025-09-20 07:22:23,956] Trial 98 finished with value: 0.96 and parameters: {'n_estimators': 19, 'max_depth': 4.391430435012092}. Best is trial 22 with value: 0.9733333333333333.\n",
            "[I 2025-09-20 07:22:24,000] Trial 99 finished with value: 0.96 and parameters: {'n_estimators': 3, 'max_depth': 3.616298320579165}. Best is trial 22 with value: 0.9733333333333333.\n"
          ]
        },
        {
          "output_type": "stream",
          "name": "stdout",
          "text": [
            "Accuracy: 0.9733333333333333\n",
            "Best hyperparameters: {'n_estimators': 15, 'max_depth': 3.155010081636098}\n"
          ]
        }
      ],
      "source": [
        "import optuna\n",
        "\n",
        "\n",
        "def objective(trial):\n",
        "    iris = sklearn.datasets.load_iris()\n",
        "\n",
        "    n_estimators = trial.suggest_int(\"n_estimators\", 2, 20)\n",
        "    max_depth = int(trial.suggest_float(\"max_depth\", 1, 32, log=True))\n",
        "\n",
        "    clf = sklearn.ensemble.RandomForestClassifier(n_estimators=n_estimators, max_depth=max_depth)\n",
        "\n",
        "    return sklearn.model_selection.cross_val_score(\n",
        "        clf, iris.data, iris.target, n_jobs=-1, cv=3\n",
        "    ).mean()\n",
        "\n",
        "\n",
        "study = optuna.create_study(direction=\"maximize\")\n",
        "study.optimize(objective, n_trials=100)\n",
        "\n",
        "trial = study.best_trial\n",
        "\n",
        "print(\"Accuracy: {}\".format(trial.value))\n",
        "print(\"Best hyperparameters: {}\".format(trial.params))"
      ]
    },
    {
      "cell_type": "markdown",
      "metadata": {
        "id": "Gu-3NTN-_smS"
      },
      "source": [
        "It is possible to condition hyperparameters using Python `if` statements. We can for instance include another classifier, a support vector machine, in our HPO and define hyperparameters specific to the random forest model and the support vector machine."
      ]
    },
    {
      "cell_type": "code",
      "execution_count": 5,
      "metadata": {
        "id": "NdkdgFpx_smT",
        "outputId": "b61c2c3d-3f9c-4a87-91ec-4faf8d7e9431",
        "colab": {
          "base_uri": "https://localhost:8080/"
        }
      },
      "outputs": [
        {
          "output_type": "stream",
          "name": "stderr",
          "text": [
            "[I 2025-09-20 07:22:30,029] A new study created in memory with name: no-name-0d4e74bf-f967-4501-af04-bb64445c73fc\n",
            "[I 2025-09-20 07:22:30,268] Trial 0 finished with value: 0.9466666666666667 and parameters: {'classifier': 'RandomForest', 'n_estimators': 16, 'max_depth': 16.47042865489109}. Best is trial 0 with value: 0.9466666666666667.\n",
            "[I 2025-09-20 07:22:30,298] Trial 1 finished with value: 0.32 and parameters: {'classifier': 'SVC', 'svc_c': 9.04835335420705e-05}. Best is trial 0 with value: 0.9466666666666667.\n",
            "[I 2025-09-20 07:22:30,317] Trial 2 finished with value: 0.96 and parameters: {'classifier': 'SVC', 'svc_c': 56.58016300883369}. Best is trial 2 with value: 0.96.\n",
            "[I 2025-09-20 07:22:30,376] Trial 3 finished with value: 0.96 and parameters: {'classifier': 'RandomForest', 'n_estimators': 9, 'max_depth': 2.522669080813724}. Best is trial 2 with value: 0.96.\n",
            "[I 2025-09-20 07:22:30,476] Trial 4 finished with value: 0.9533333333333333 and parameters: {'classifier': 'RandomForest', 'n_estimators': 19, 'max_depth': 1.791646733210261}. Best is trial 2 with value: 0.96.\n",
            "[I 2025-09-20 07:22:30,505] Trial 5 finished with value: 0.8799999999999999 and parameters: {'classifier': 'SVC', 'svc_c': 0.041090951873866924}. Best is trial 2 with value: 0.96.\n",
            "[I 2025-09-20 07:22:30,566] Trial 6 finished with value: 0.96 and parameters: {'classifier': 'RandomForest', 'n_estimators': 9, 'max_depth': 6.9260505130513454}. Best is trial 2 with value: 0.96.\n",
            "[I 2025-09-20 07:22:30,585] Trial 7 finished with value: 0.9666666666666667 and parameters: {'classifier': 'SVC', 'svc_c': 43.21684618239141}. Best is trial 7 with value: 0.9666666666666667.\n",
            "[I 2025-09-20 07:22:30,667] Trial 8 finished with value: 0.9533333333333333 and parameters: {'classifier': 'RandomForest', 'n_estimators': 10, 'max_depth': 13.95869572554555}. Best is trial 7 with value: 0.9666666666666667.\n",
            "[I 2025-09-20 07:22:30,697] Trial 9 finished with value: 0.32 and parameters: {'classifier': 'SVC', 'svc_c': 5.968819239209983e-06}. Best is trial 7 with value: 0.9666666666666667.\n",
            "[I 2025-09-20 07:22:30,720] Trial 10 finished with value: 0.96 and parameters: {'classifier': 'SVC', 'svc_c': 52824984.74466767}. Best is trial 7 with value: 0.9666666666666667.\n",
            "[I 2025-09-20 07:22:30,744] Trial 11 finished with value: 0.96 and parameters: {'classifier': 'SVC', 'svc_c': 64996.950644091994}. Best is trial 7 with value: 0.9666666666666667.\n",
            "[I 2025-09-20 07:22:30,768] Trial 12 finished with value: 0.9466666666666667 and parameters: {'classifier': 'SVC', 'svc_c': 281.104182221626}. Best is trial 7 with value: 0.9666666666666667.\n",
            "[I 2025-09-20 07:22:30,802] Trial 13 finished with value: 0.32 and parameters: {'classifier': 'SVC', 'svc_c': 1.8356261325115461e-10}. Best is trial 7 with value: 0.9666666666666667.\n",
            "[I 2025-09-20 07:22:30,855] Trial 14 finished with value: 0.96 and parameters: {'classifier': 'SVC', 'svc_c': 32.75052837551242}. Best is trial 7 with value: 0.9666666666666667.\n",
            "[I 2025-09-20 07:22:30,914] Trial 15 finished with value: 0.96 and parameters: {'classifier': 'SVC', 'svc_c': 7689071340.211557}. Best is trial 7 with value: 0.9666666666666667.\n",
            "[I 2025-09-20 07:22:30,979] Trial 16 finished with value: 0.96 and parameters: {'classifier': 'SVC', 'svc_c': 80442.2832021485}. Best is trial 7 with value: 0.9666666666666667.\n",
            "[I 2025-09-20 07:22:31,030] Trial 17 finished with value: 0.94 and parameters: {'classifier': 'SVC', 'svc_c': 0.08142462038690414}. Best is trial 7 with value: 0.9666666666666667.\n",
            "[I 2025-09-20 07:22:31,075] Trial 18 finished with value: 0.96 and parameters: {'classifier': 'SVC', 'svc_c': 21931.939628193744}. Best is trial 7 with value: 0.9666666666666667.\n",
            "[I 2025-09-20 07:22:31,140] Trial 19 finished with value: 0.32 and parameters: {'classifier': 'SVC', 'svc_c': 0.00035373576358433003}. Best is trial 7 with value: 0.9666666666666667.\n",
            "[I 2025-09-20 07:22:31,202] Trial 20 finished with value: 0.9666666666666667 and parameters: {'classifier': 'SVC', 'svc_c': 19.266663383664607}. Best is trial 7 with value: 0.9666666666666667.\n",
            "[I 2025-09-20 07:22:31,225] Trial 21 finished with value: 0.98 and parameters: {'classifier': 'SVC', 'svc_c': 11.672720920939847}. Best is trial 21 with value: 0.98.\n",
            "[I 2025-09-20 07:22:31,246] Trial 22 finished with value: 0.96 and parameters: {'classifier': 'SVC', 'svc_c': 0.3334100763530811}. Best is trial 21 with value: 0.98.\n",
            "[I 2025-09-20 07:22:31,268] Trial 23 finished with value: 0.9466666666666667 and parameters: {'classifier': 'SVC', 'svc_c': 291.52822360416275}. Best is trial 21 with value: 0.98.\n",
            "[I 2025-09-20 07:22:31,289] Trial 24 finished with value: 0.9733333333333333 and parameters: {'classifier': 'SVC', 'svc_c': 1.794314421586468}. Best is trial 21 with value: 0.98.\n",
            "[I 2025-09-20 07:22:31,310] Trial 25 finished with value: 0.32 and parameters: {'classifier': 'SVC', 'svc_c': 0.00846419119039285}. Best is trial 21 with value: 0.98.\n",
            "[I 2025-09-20 07:22:31,344] Trial 26 finished with value: 0.9466666666666667 and parameters: {'classifier': 'RandomForest', 'n_estimators': 2, 'max_depth': 29.348597933333906}. Best is trial 21 with value: 0.98.\n",
            "[I 2025-09-20 07:22:31,376] Trial 27 finished with value: 0.32 and parameters: {'classifier': 'SVC', 'svc_c': 7.601285473413242e-07}. Best is trial 21 with value: 0.98.\n",
            "[I 2025-09-20 07:22:31,401] Trial 28 finished with value: 0.9733333333333333 and parameters: {'classifier': 'SVC', 'svc_c': 2.3941944452698363}. Best is trial 21 with value: 0.98.\n",
            "[I 2025-09-20 07:22:31,445] Trial 29 finished with value: 0.7799999999999999 and parameters: {'classifier': 'RandomForest', 'n_estimators': 3, 'max_depth': 1.0465977541896094}. Best is trial 21 with value: 0.98.\n",
            "[I 2025-09-20 07:22:31,466] Trial 30 finished with value: 0.96 and parameters: {'classifier': 'SVC', 'svc_c': 4520.3983617064105}. Best is trial 21 with value: 0.98.\n",
            "[I 2025-09-20 07:22:31,487] Trial 31 finished with value: 0.9733333333333333 and parameters: {'classifier': 'SVC', 'svc_c': 2.458813031010549}. Best is trial 21 with value: 0.98.\n",
            "[I 2025-09-20 07:22:31,510] Trial 32 finished with value: 0.9666666666666667 and parameters: {'classifier': 'SVC', 'svc_c': 1.648606101819957}. Best is trial 21 with value: 0.98.\n",
            "[I 2025-09-20 07:22:31,542] Trial 33 finished with value: 0.32 and parameters: {'classifier': 'SVC', 'svc_c': 0.0029522914685391685}. Best is trial 21 with value: 0.98.\n",
            "[I 2025-09-20 07:22:31,564] Trial 34 finished with value: 0.9666666666666667 and parameters: {'classifier': 'SVC', 'svc_c': 1.530805013354133}. Best is trial 21 with value: 0.98.\n",
            "[I 2025-09-20 07:22:31,585] Trial 35 finished with value: 0.96 and parameters: {'classifier': 'SVC', 'svc_c': 4674338.106662458}. Best is trial 21 with value: 0.98.\n",
            "[I 2025-09-20 07:22:31,679] Trial 36 finished with value: 0.9666666666666667 and parameters: {'classifier': 'RandomForest', 'n_estimators': 15, 'max_depth': 4.681046453529486}. Best is trial 21 with value: 0.98.\n",
            "[I 2025-09-20 07:22:31,716] Trial 37 finished with value: 0.96 and parameters: {'classifier': 'SVC', 'svc_c': 2837.201164245165}. Best is trial 21 with value: 0.98.\n",
            "[I 2025-09-20 07:22:31,748] Trial 38 finished with value: 0.32 and parameters: {'classifier': 'SVC', 'svc_c': 9.0779094949249e-05}. Best is trial 21 with value: 0.98.\n",
            "[I 2025-09-20 07:22:31,802] Trial 39 finished with value: 0.9466666666666667 and parameters: {'classifier': 'RandomForest', 'n_estimators': 6, 'max_depth': 5.625041761789814}. Best is trial 21 with value: 0.98.\n",
            "[I 2025-09-20 07:22:31,823] Trial 40 finished with value: 0.9733333333333333 and parameters: {'classifier': 'SVC', 'svc_c': 2.6709477201917093}. Best is trial 21 with value: 0.98.\n",
            "[I 2025-09-20 07:22:31,846] Trial 41 finished with value: 0.9666666666666667 and parameters: {'classifier': 'SVC', 'svc_c': 1.4488515659356311}. Best is trial 21 with value: 0.98.\n",
            "[I 2025-09-20 07:22:31,868] Trial 42 finished with value: 0.9866666666666667 and parameters: {'classifier': 'SVC', 'svc_c': 3.9653905035679293}. Best is trial 42 with value: 0.9866666666666667.\n",
            "[I 2025-09-20 07:22:31,889] Trial 43 finished with value: 0.8933333333333332 and parameters: {'classifier': 'SVC', 'svc_c': 0.04675304974031121}. Best is trial 42 with value: 0.9866666666666667.\n",
            "[I 2025-09-20 07:22:31,920] Trial 44 finished with value: 0.32 and parameters: {'classifier': 'SVC', 'svc_c': 0.002723018627005433}. Best is trial 42 with value: 0.9866666666666667.\n",
            "[I 2025-09-20 07:22:31,942] Trial 45 finished with value: 0.96 and parameters: {'classifier': 'SVC', 'svc_c': 680.2574704397512}. Best is trial 42 with value: 0.9866666666666667.\n",
            "[I 2025-09-20 07:22:31,977] Trial 46 finished with value: 0.9733333333333333 and parameters: {'classifier': 'SVC', 'svc_c': 15.726533829747183}. Best is trial 42 with value: 0.9866666666666667.\n",
            "[I 2025-09-20 07:22:32,092] Trial 47 finished with value: 0.96 and parameters: {'classifier': 'RandomForest', 'n_estimators': 20, 'max_depth': 29.636901217240514}. Best is trial 42 with value: 0.9866666666666667.\n",
            "[I 2025-09-20 07:22:32,115] Trial 48 finished with value: 0.96 and parameters: {'classifier': 'SVC', 'svc_c': 0.1818478585011888}. Best is trial 42 with value: 0.9866666666666667.\n",
            "[I 2025-09-20 07:22:32,147] Trial 49 finished with value: 0.9533333333333333 and parameters: {'classifier': 'SVC', 'svc_c': 159.00788003737492}. Best is trial 42 with value: 0.9866666666666667.\n",
            "[I 2025-09-20 07:22:32,169] Trial 50 finished with value: 0.9666666666666667 and parameters: {'classifier': 'SVC', 'svc_c': 18.45933442656039}. Best is trial 42 with value: 0.9866666666666667.\n",
            "[I 2025-09-20 07:22:32,190] Trial 51 finished with value: 0.9733333333333333 and parameters: {'classifier': 'SVC', 'svc_c': 3.293568531968701}. Best is trial 42 with value: 0.9866666666666667.\n",
            "[I 2025-09-20 07:22:32,222] Trial 52 finished with value: 0.9 and parameters: {'classifier': 'SVC', 'svc_c': 0.042211958771165424}. Best is trial 42 with value: 0.9866666666666667.\n",
            "[I 2025-09-20 07:22:32,245] Trial 53 finished with value: 0.9866666666666667 and parameters: {'classifier': 'SVC', 'svc_c': 4.111236510996754}. Best is trial 42 with value: 0.9866666666666667.\n",
            "[I 2025-09-20 07:22:32,268] Trial 54 finished with value: 0.96 and parameters: {'classifier': 'SVC', 'svc_c': 73.83964732571589}. Best is trial 42 with value: 0.9866666666666667.\n",
            "[I 2025-09-20 07:22:32,290] Trial 55 finished with value: 0.96 and parameters: {'classifier': 'SVC', 'svc_c': 0.2666632350459894}. Best is trial 42 with value: 0.9866666666666667.\n",
            "[I 2025-09-20 07:22:32,311] Trial 56 finished with value: 0.96 and parameters: {'classifier': 'SVC', 'svc_c': 537254.9509020462}. Best is trial 42 with value: 0.9866666666666667.\n",
            "[I 2025-09-20 07:22:32,333] Trial 57 finished with value: 0.32 and parameters: {'classifier': 'SVC', 'svc_c': 0.009782542011998246}. Best is trial 42 with value: 0.9866666666666667.\n",
            "[I 2025-09-20 07:22:32,356] Trial 58 finished with value: 0.96 and parameters: {'classifier': 'SVC', 'svc_c': 1247.7154252211446}. Best is trial 42 with value: 0.9866666666666667.\n",
            "[I 2025-09-20 07:22:32,451] Trial 59 finished with value: 0.9666666666666667 and parameters: {'classifier': 'RandomForest', 'n_estimators': 14, 'max_depth': 10.98344359897458}. Best is trial 42 with value: 0.9866666666666667.\n",
            "[I 2025-09-20 07:22:32,473] Trial 60 finished with value: 0.32 and parameters: {'classifier': 'SVC', 'svc_c': 1.3170836942960677e-06}. Best is trial 42 with value: 0.9866666666666667.\n",
            "[I 2025-09-20 07:22:32,496] Trial 61 finished with value: 0.9866666666666667 and parameters: {'classifier': 'SVC', 'svc_c': 4.7593052953689154}. Best is trial 42 with value: 0.9866666666666667.\n",
            "[I 2025-09-20 07:22:32,518] Trial 62 finished with value: 0.98 and parameters: {'classifier': 'SVC', 'svc_c': 9.968793189753198}. Best is trial 42 with value: 0.9866666666666667.\n",
            "[I 2025-09-20 07:22:32,539] Trial 63 finished with value: 0.9733333333333333 and parameters: {'classifier': 'SVC', 'svc_c': 15.305652109761578}. Best is trial 42 with value: 0.9866666666666667.\n",
            "[I 2025-09-20 07:22:32,562] Trial 64 finished with value: 0.96 and parameters: {'classifier': 'SVC', 'svc_c': 80.60564923942054}. Best is trial 42 with value: 0.9866666666666667.\n",
            "[I 2025-09-20 07:22:32,584] Trial 65 finished with value: 0.96 and parameters: {'classifier': 'SVC', 'svc_c': 14134.014157286561}. Best is trial 42 with value: 0.9866666666666667.\n",
            "[I 2025-09-20 07:22:32,606] Trial 66 finished with value: 0.9666666666666667 and parameters: {'classifier': 'SVC', 'svc_c': 0.49086601515509254}. Best is trial 42 with value: 0.9866666666666667.\n",
            "[I 2025-09-20 07:22:32,629] Trial 67 finished with value: 0.98 and parameters: {'classifier': 'SVC', 'svc_c': 8.26379115919007}. Best is trial 42 with value: 0.9866666666666667.\n",
            "[I 2025-09-20 07:22:32,651] Trial 68 finished with value: 0.98 and parameters: {'classifier': 'SVC', 'svc_c': 9.869012054627406}. Best is trial 42 with value: 0.9866666666666667.\n",
            "[I 2025-09-20 07:22:32,674] Trial 69 finished with value: 0.9666666666666667 and parameters: {'classifier': 'SVC', 'svc_c': 22.846350953528166}. Best is trial 42 with value: 0.9866666666666667.\n",
            "[I 2025-09-20 07:22:32,695] Trial 70 finished with value: 0.9466666666666667 and parameters: {'classifier': 'SVC', 'svc_c': 215.89938011446873}. Best is trial 42 with value: 0.9866666666666667.\n",
            "[I 2025-09-20 07:22:32,728] Trial 71 finished with value: 0.96 and parameters: {'classifier': 'SVC', 'svc_c': 0.19466303260346984}. Best is trial 42 with value: 0.9866666666666667.\n",
            "[I 2025-09-20 07:22:32,765] Trial 72 finished with value: 0.9866666666666667 and parameters: {'classifier': 'SVC', 'svc_c': 4.857950653673864}. Best is trial 42 with value: 0.9866666666666667.\n",
            "[I 2025-09-20 07:22:32,786] Trial 73 finished with value: 0.98 and parameters: {'classifier': 'SVC', 'svc_c': 9.848692343815143}. Best is trial 42 with value: 0.9866666666666667.\n",
            "[I 2025-09-20 07:22:32,818] Trial 74 finished with value: 0.32 and parameters: {'classifier': 'SVC', 'svc_c': 1.3826135631113895e-10}. Best is trial 42 with value: 0.9866666666666667.\n",
            "[I 2025-09-20 07:22:32,843] Trial 75 finished with value: 0.96 and parameters: {'classifier': 'SVC', 'svc_c': 615.4456155276414}. Best is trial 42 with value: 0.9866666666666667.\n",
            "[I 2025-09-20 07:22:32,876] Trial 76 finished with value: 0.32 and parameters: {'classifier': 'SVC', 'svc_c': 2.5732762491290757e-09}. Best is trial 42 with value: 0.9866666666666667.\n",
            "[I 2025-09-20 07:22:32,930] Trial 77 finished with value: 0.9466666666666667 and parameters: {'classifier': 'RandomForest', 'n_estimators': 6, 'max_depth': 3.0391067443105206}. Best is trial 42 with value: 0.9866666666666667.\n",
            "[I 2025-09-20 07:22:32,954] Trial 78 finished with value: 0.98 and parameters: {'classifier': 'SVC', 'svc_c': 5.280912808053809}. Best is trial 42 with value: 0.9866666666666667.\n",
            "[I 2025-09-20 07:22:32,976] Trial 79 finished with value: 0.96 and parameters: {'classifier': 'SVC', 'svc_c': 83.22209091850534}. Best is trial 42 with value: 0.9866666666666667.\n",
            "[I 2025-09-20 07:22:33,000] Trial 80 finished with value: 0.9666666666666667 and parameters: {'classifier': 'SVC', 'svc_c': 0.7462223179907144}. Best is trial 42 with value: 0.9866666666666667.\n",
            "[I 2025-09-20 07:22:33,029] Trial 81 finished with value: 0.98 and parameters: {'classifier': 'SVC', 'svc_c': 7.496301019886124}. Best is trial 42 with value: 0.9866666666666667.\n",
            "[I 2025-09-20 07:22:33,060] Trial 82 finished with value: 0.32 and parameters: {'classifier': 'SVC', 'svc_c': 0.016652865505341237}. Best is trial 42 with value: 0.9866666666666667.\n",
            "[I 2025-09-20 07:22:33,081] Trial 83 finished with value: 0.9666666666666667 and parameters: {'classifier': 'SVC', 'svc_c': 43.09841340973929}. Best is trial 42 with value: 0.9866666666666667.\n",
            "[I 2025-09-20 07:22:33,103] Trial 84 finished with value: 0.98 and parameters: {'classifier': 'SVC', 'svc_c': 6.1090842666664456}. Best is trial 42 with value: 0.9866666666666667.\n",
            "[I 2025-09-20 07:22:33,124] Trial 85 finished with value: 0.94 and parameters: {'classifier': 'SVC', 'svc_c': 0.10129200087004797}. Best is trial 42 with value: 0.9866666666666667.\n",
            "[I 2025-09-20 07:22:33,148] Trial 86 finished with value: 0.96 and parameters: {'classifier': 'SVC', 'svc_c': 3433.4353902863204}. Best is trial 42 with value: 0.9866666666666667.\n",
            "[I 2025-09-20 07:22:33,169] Trial 87 finished with value: 0.9466666666666667 and parameters: {'classifier': 'SVC', 'svc_c': 384.4524152688554}. Best is trial 42 with value: 0.9866666666666667.\n",
            "[I 2025-09-20 07:22:33,192] Trial 88 finished with value: 0.98 and parameters: {'classifier': 'SVC', 'svc_c': 8.927579660368856}. Best is trial 42 with value: 0.9866666666666667.\n",
            "[I 2025-09-20 07:22:33,277] Trial 89 finished with value: 0.96 and parameters: {'classifier': 'RandomForest', 'n_estimators': 13, 'max_depth': 1.3094982695219415}. Best is trial 42 with value: 0.9866666666666667.\n",
            "[I 2025-09-20 07:22:33,300] Trial 90 finished with value: 0.9666666666666667 and parameters: {'classifier': 'SVC', 'svc_c': 0.5925715805726679}. Best is trial 42 with value: 0.9866666666666667.\n",
            "[I 2025-09-20 07:22:33,321] Trial 91 finished with value: 0.9666666666666667 and parameters: {'classifier': 'SVC', 'svc_c': 41.22973075664037}. Best is trial 42 with value: 0.9866666666666667.\n",
            "[I 2025-09-20 07:22:33,343] Trial 92 finished with value: 0.9866666666666667 and parameters: {'classifier': 'SVC', 'svc_c': 3.9565377445907797}. Best is trial 42 with value: 0.9866666666666667.\n",
            "[I 2025-09-20 07:22:33,365] Trial 93 finished with value: 0.9666666666666667 and parameters: {'classifier': 'SVC', 'svc_c': 0.5954899603839755}. Best is trial 42 with value: 0.9866666666666667.\n",
            "[I 2025-09-20 07:22:33,388] Trial 94 finished with value: 0.9733333333333333 and parameters: {'classifier': 'SVC', 'svc_c': 1.8133456250856101}. Best is trial 42 with value: 0.9866666666666667.\n",
            "[I 2025-09-20 07:22:33,412] Trial 95 finished with value: 0.96 and parameters: {'classifier': 'SVC', 'svc_c': 127.35067960839395}. Best is trial 42 with value: 0.9866666666666667.\n",
            "[I 2025-09-20 07:22:33,433] Trial 96 finished with value: 0.98 and parameters: {'classifier': 'SVC', 'svc_c': 6.123088222674855}. Best is trial 42 with value: 0.9866666666666667.\n",
            "[I 2025-09-20 07:22:33,455] Trial 97 finished with value: 0.94 and parameters: {'classifier': 'SVC', 'svc_c': 0.09256379113305463}. Best is trial 42 with value: 0.9866666666666667.\n",
            "[I 2025-09-20 07:22:33,478] Trial 98 finished with value: 0.9666666666666667 and parameters: {'classifier': 'SVC', 'svc_c': 24.767034952142073}. Best is trial 42 with value: 0.9866666666666667.\n",
            "[I 2025-09-20 07:22:33,500] Trial 99 finished with value: 0.96 and parameters: {'classifier': 'SVC', 'svc_c': 8580900989.905657}. Best is trial 42 with value: 0.9866666666666667.\n"
          ]
        },
        {
          "output_type": "stream",
          "name": "stdout",
          "text": [
            "Accuracy: 0.9866666666666667\n",
            "Best hyperparameters: {'classifier': 'SVC', 'svc_c': 3.9653905035679293}\n"
          ]
        }
      ],
      "source": [
        "import sklearn.svm\n",
        "\n",
        "\n",
        "def objective(trial):\n",
        "    iris = sklearn.datasets.load_iris()\n",
        "\n",
        "    classifier = trial.suggest_categorical(\"classifier\", [\"RandomForest\", \"SVC\"])\n",
        "\n",
        "    if classifier == \"RandomForest\":\n",
        "        n_estimators = trial.suggest_int(\"n_estimators\", 2, 20)\n",
        "        max_depth = int(trial.suggest_float(\"max_depth\", 1, 32, log=True))\n",
        "\n",
        "        clf = sklearn.ensemble.RandomForestClassifier(\n",
        "            n_estimators=n_estimators, max_depth=max_depth\n",
        "        )\n",
        "    else:\n",
        "        c = trial.suggest_float(\"svc_c\", 1e-10, 1e10, log=True)\n",
        "\n",
        "        clf = sklearn.svm.SVC(C=c, gamma=\"auto\")\n",
        "\n",
        "    return sklearn.model_selection.cross_val_score(\n",
        "        clf, iris.data, iris.target, n_jobs=-1, cv=3\n",
        "    ).mean()\n",
        "\n",
        "\n",
        "study = optuna.create_study(direction=\"maximize\")\n",
        "study.optimize(objective, n_trials=100)\n",
        "\n",
        "trial = study.best_trial\n",
        "\n",
        "print(\"Accuracy: {}\".format(trial.value))\n",
        "print(\"Best hyperparameters: {}\".format(trial.params))"
      ]
    },
    {
      "cell_type": "markdown",
      "metadata": {
        "id": "TTcDHUJ8_smU"
      },
      "source": [
        "### Plotting the study\n",
        "\n",
        "Plotting the optimization history of the study."
      ]
    },
    {
      "cell_type": "code",
      "execution_count": null,
      "metadata": {
        "id": "xGyk_G22_smU"
      },
      "outputs": [],
      "source": [
        "optuna.visualization.plot_optimization_history(study)"
      ]
    },
    {
      "cell_type": "markdown",
      "metadata": {
        "id": "DbNecBYb_smU"
      },
      "source": [
        "Plotting the accuracies for each hyperparameter for each trial."
      ]
    },
    {
      "cell_type": "code",
      "execution_count": null,
      "metadata": {
        "id": "HGrAlwQw_smU"
      },
      "outputs": [],
      "source": [
        "optuna.visualization.plot_slice(study)"
      ]
    },
    {
      "cell_type": "markdown",
      "metadata": {
        "id": "MHijMyVb_smV"
      },
      "source": [
        "Plotting the accuracy surface for the hyperparameters involved in the random forest model."
      ]
    },
    {
      "cell_type": "code",
      "execution_count": null,
      "metadata": {
        "id": "Ko6dE2bT_smV"
      },
      "outputs": [],
      "source": [
        "optuna.visualization.plot_contour(study, params=[\"n_estimators\", \"max_depth\"])"
      ]
    }
  ],
  "metadata": {
    "kernelspec": {
      "display_name": "Python 3",
      "language": "python",
      "name": "python3"
    },
    "language_info": {
      "codemirror_mode": {
        "name": "ipython",
        "version": 3
      },
      "file_extension": ".py",
      "mimetype": "text/x-python",
      "name": "python",
      "nbconvert_exporter": "python",
      "pygments_lexer": "ipython3",
      "version": "3.7.4"
    },
    "colab": {
      "provenance": []
    }
  },
  "nbformat": 4,
  "nbformat_minor": 0
}